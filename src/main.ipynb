{
 "cells": [
  {
   "cell_type": "code",
   "execution_count": 1,
   "metadata": {},
   "outputs": [],
   "source": [
    "import numpy as np\n",
    "import matplotlib.pyplot as plt\n",
    "from mapcalc import Map\n",
    "import matplotlib.image as mpimg\n",
    "from scipy.ndimage import zoom\n",
    "from mapcalc import Map\n",
    "from queue import PriorityQueue"
   ]
  },
  {
   "cell_type": "code",
   "execution_count": 2,
   "metadata": {},
   "outputs": [],
   "source": [
    "map_location = \"map_source/map_source.csv\"\n",
    "map_expand_location = \"map_source/map_expand_sharp.csv\""
   ]
  },
  {
   "cell_type": "code",
   "execution_count": 3,
   "metadata": {},
   "outputs": [],
   "source": [
    "base_org_map = Map(map_location)\n",
    "base_exp_map = Map(map_expand_location)\n",
    "org_map = base_org_map.load()\n",
    "exp_map = base_exp_map.load()"
   ]
  },
  {
   "cell_type": "code",
   "execution_count": 4,
   "metadata": {},
   "outputs": [],
   "source": [
    "start_loc = [200, 150, 0]\n",
    "destn_loc = [1220, 1100, 0]"
   ]
  },
  {
   "cell_type": "code",
   "execution_count": 7,
   "metadata": {},
   "outputs": [],
   "source": [
    "def a_star_search(start, goal, grid):\n",
    "    # Heuristic function: Manhattan distance\n",
    "    def heuristic(a, b):\n",
    "        return abs(a[0] - b[0]) + abs(a[1] - b[1])\n",
    "\n",
    "    # Directions for moving up, down, left, right\n",
    "    directions = [(0, 1), (0, -1), (-1, 0), (1, 0)]\n",
    "\n",
    "    # Initialize both the open and closed sets\n",
    "    open_set = PriorityQueue()\n",
    "    open_set.put((0, start))\n",
    "    came_from = {}\n",
    "    g_score = {position: float('inf') for position in np.ndindex(grid.shape)}\n",
    "    g_score[start] = 0\n",
    "    f_score = {position: float('inf') for position in np.ndindex(grid.shape)}\n",
    "    f_score[start] = heuristic(start, goal)\n",
    "\n",
    "    while not open_set.empty():\n",
    "        _, current = open_set.get()\n",
    "\n",
    "        if current == goal:\n",
    "            # Reconstruct path\n",
    "            path = []\n",
    "            while current in came_from:\n",
    "                path.append(current)\n",
    "                current = came_from[current]\n",
    "            path.append(start)\n",
    "            return path[::-1]  # Return reversed path\n",
    "\n",
    "        for direction in directions:\n",
    "            neighbor = (current[0] + direction[0], current[1] + direction[1])\n",
    "\n",
    "            # Check if within bounds and not an obstacle\n",
    "            if 0 <= neighbor[0] < grid.shape[0] and 0 <= neighbor[1] < grid.shape[1] and grid[neighbor] == 0:\n",
    "                tentative_g_score = g_score[current] + 1  # Assume cost between nodes is 1\n",
    "\n",
    "                if tentative_g_score < g_score[neighbor]:\n",
    "                    came_from[neighbor] = current\n",
    "                    g_score[neighbor] = tentative_g_score\n",
    "                    f_score[neighbor] = g_score[neighbor] + heuristic(neighbor, goal)\n",
    "                    open_set.put((f_score[neighbor], neighbor))\n",
    "\n",
    "    return None  # Path not found"
   ]
  },
  {
   "cell_type": "code",
   "execution_count": 6,
   "metadata": {},
   "outputs": [],
   "source": [
    "def heuristic(a, b):\n",
    "    return abs(a[0] - b[0]) + abs(a[1] - b[1])\n",
    "\n",
    "def a_star_search_np(start, goal, grid):\n",
    "    directions = [(0, 1), (0, -1), (-1, 0), (1, 0)]\n",
    "    open_set = PriorityQueue()\n",
    "    open_set.put((0, start))\n",
    "    came_from = {}\n",
    "    \n",
    "    g_score = np.full(grid.shape, float('inf'))\n",
    "    g_score[start] = 0\n",
    "    \n",
    "    f_score = np.full(grid.shape, float('inf'))\n",
    "    f_score[start] = heuristic(start, goal)\n",
    "    \n",
    "    while not open_set.empty():\n",
    "        _, current = open_set.get()\n",
    "\n",
    "        if current == goal:\n",
    "            path = []\n",
    "            while current in came_from:\n",
    "                path.append(current)\n",
    "                current = came_from[current]\n",
    "            path.append(start)\n",
    "            return path[::-1]\n",
    "\n",
    "        for direction in directions:\n",
    "            neighbor = (current[0] + direction[0], current[1] + direction[1])\n",
    "\n",
    "            if 0 <= neighbor[0] < grid.shape[0] and 0 <= neighbor[1] < grid.shape[1] and grid[neighbor] == 0:\n",
    "                tentative_g_score = g_score[current] + 1\n",
    "\n",
    "                if tentative_g_score < g_score[neighbor]:\n",
    "                    came_from[neighbor] = current\n",
    "                    g_score[neighbor] = tentative_g_score\n",
    "                    f_score[neighbor] = tentative_g_score + heuristic(neighbor, goal)\n",
    "                    open_set.put((f_score[neighbor], neighbor))\n",
    "\n",
    "    return None\n",
    "\n",
    "def flip_tuples(tuple_list):\n",
    "    return [(t[1], t[0]) for t in tuple_list]"
   ]
  },
  {
   "cell_type": "code",
   "execution_count": 7,
   "metadata": {},
   "outputs": [],
   "source": [
    "astar_path = a_star_search_np(\n",
    "    (start_loc[1], start_loc[0]), \n",
    "    (destn_loc[1], destn_loc[0]), \n",
    "    exp_map)"
   ]
  },
  {
   "cell_type": "code",
   "execution_count": 27,
   "metadata": {},
   "outputs": [],
   "source": []
  },
  {
   "cell_type": "code",
   "execution_count": 29,
   "metadata": {},
   "outputs": [
    {
     "data": {
      "text/plain": [
       "<matplotlib.image.AxesImage at 0x1414dba2f90>"
      ]
     },
     "execution_count": 29,
     "metadata": {},
     "output_type": "execute_result"
    },
    {
     "data": {
      "image/png": "[encoded data removed]",
      "text/plain": [
       "<Figure size 640x480 with 1 Axes>"
      ]
     },
     "metadata": {},
     "output_type": "display_data"
    }
   ],
   "source": [
    "start_marker = plt.Circle((start_loc[0], start_loc[1]), 10, color=\"g\")\n",
    "destn_marker = plt.Circle((destn_loc[0], destn_loc[1]), 10, color=\"r\")\n",
    "for path_marker in flip_tuples(astar_path):\n",
    "    plt.gca().add_patch(plt.Circle(path_marker, 3, color=\"b\"))\n",
    "plt.gca().add_patch(start_marker)\n",
    "plt.gca().add_patch(destn_marker)\n",
    "plt.grid()\n",
    "plt.imshow(exp_map, cmap=\"grey\")"
   ]
  },
  {
   "cell_type": "code",
   "execution_count": 32,
   "metadata": {},
   "outputs": [],
   "source": [
    "def path_to_commands_optimized(path):\n",
    "    # Helper function to calculate turn direction and angle\n",
    "    def calculate_turn(current_direction, new_direction):\n",
    "        # Mapping of direction changes to turn angles\n",
    "        turn_mapping = {\n",
    "            ('up', 'right'): ('turn', 90),\n",
    "            ('right', 'down'): ('turn', 90),\n",
    "            ('down', 'left'): ('turn', 90),\n",
    "            ('left', 'up'): ('turn', 90),\n",
    "            ('up', 'left'): ('turn', -90),\n",
    "            ('left', 'down'): ('turn', -90),\n",
    "            ('down', 'right'): ('turn', -90),\n",
    "            ('right', 'up'): ('turn', -90),\n",
    "        }\n",
    "        return turn_mapping.get((current_direction, new_direction), ('stop', 0))\n",
    "\n",
    "    directions = {'up': (-1, 0), 'down': (1, 0), 'left': (0, -1), 'right': (0, 1)}\n",
    "    direction_keys = {v: k for k, v in directions.items()}  # Reverse mapping for deltas to direction keys\n",
    "    current_direction = 'up'\n",
    "    \n",
    "    commands = []\n",
    "    move_count = 0  # Initialize move count\n",
    "\n",
    "    for i in range(len(path) - 1):\n",
    "        current_point = path[i]\n",
    "        next_point = path[i + 1]\n",
    "        delta = (next_point[0] - current_point[0], next_point[1] - current_point[1])\n",
    "        new_direction = direction_keys.get(delta)\n",
    "\n",
    "        # If the direction changes, process the previous movement first\n",
    "        if new_direction != current_direction:\n",
    "            if move_count > 0:\n",
    "                commands.append(('forward', move_count))\n",
    "                move_count = 0  # Reset move count\n",
    "\n",
    "            turn_command, turn_angle = calculate_turn(current_direction, new_direction)\n",
    "            commands.append((turn_command, turn_angle))\n",
    "            current_direction = new_direction\n",
    "\n",
    "        move_count += 1  # Increment move count for each step in the same direction\n",
    "\n",
    "    # Add the last movement command if any\n",
    "    if move_count > 0:\n",
    "        commands.append(('forward', move_count))\n",
    "\n",
    "    return commands\n"
   ]
  },
  {
   "cell_type": "code",
   "execution_count": 66,
   "metadata": {},
   "outputs": [
    {
     "name": "stdout",
     "output_type": "stream",
     "text": [
      "('turn', 90)\n",
      "('forward', 669)\n",
      "('turn', 90)\n",
      "('forward', 435)\n",
      "('turn', -90)\n",
      "('forward', 351)\n",
      "('turn', 90)\n",
      "('forward', 515)\n"
     ]
    }
   ],
   "source": [
    "commands = path_to_commands_optimized(astarboi_np)\n",
    "for com in commands:\n",
    "    print(com)"
   ]
  },
  {
   "cell_type": "code",
   "execution_count": null,
   "metadata": {},
   "outputs": [],
   "source": [
    "import smbus"
   ]
  },
  {
   "cell_type": "code",
   "execution_count": null,
   "metadata": {},
   "outputs": [],
   "source": [
    "class I2CDevice:\n",
    "    def __init__(self, address=0x08, bus_number=1):\n",
    "        self.address = address\n",
    "        self.bus = smbus.SMBus(bus_number)\n",
    "\n",
    "    def send_integers(self, integers):\n",
    "        bytes_to_send = []\n",
    "        for integer in integers:\n",
    "            bytes_to_send.append(integer)\n",
    "\n",
    "        try:\n",
    "            self.bus.write_i2c_block_data(self.address, 0x00, bytes_to_send)\n",
    "            print(\"Successfully sent 4 integers.\")\n",
    "            return True\n",
    "        except IOError as e:\n",
    "            print(f\"Failed to send data: {e}\")\n",
    "            return False\n",
    "\n",
    "    def close(self):\n",
    "        self.bus.close()"
   ]
  },
  {
   "cell_type": "code",
   "execution_count": 73,
   "metadata": {},
   "outputs": [],
   "source": [
    "class AMR:\n",
    "    def __init__(self) -> None:\n",
    "        self.i2c  = None\n",
    "        \n",
    "        self.deg_per_step = 1.8\n",
    "        self.step_per_rotation = 360 / self.deg_per_step\n",
    "        \n",
    "\n",
    "        self.wheel_dia = 59.52 # mm\n",
    "        self.wheel_r = self.wheel_dia / 2\n",
    "        self.wheelbase = 98.6 # mm\n",
    "        self.track = 169.5 # mm\n",
    "\n",
    "        self.dist_per_step = np.pi * self.wheel_dia * self.deg_per_step / 360 # mm\n",
    "        \n",
    "\n",
    "        self.v = round(self.speed_w * self.wheel_r, 1) # mm/s\n",
    "        self.two_pi = 2 * np.pi\n",
    "\n",
    "        self.i2c_channel : I2CDevice\n",
    "\n",
    "    def initialize_communication(self, i2c_comm: I2CDevice):\n",
    "        self.i2c_channel = i2c_comm\n",
    "\n",
    "    def turn(self, angle):\n",
    "        return\n",
    "    \n",
    "    def forward(self, distance, duration):\n",
    "        return\n",
    "    \n",
    "    def forward_step_control(self, distance):\n",
    "        return\n",
    "    \n",
    "    def reverse(self, distance, duration):\n",
    "        return\n",
    "    \n",
    "    def sps_to_w(self, sps):\n",
    "        return sps/200 * self.two_pi # steps per second to radians/second\n",
    "\n",
    "    def analyze_commands(self, commands):\n",
    "        self.commands = commands\n",
    "        self.total_distance = 0\n",
    "        self.parsed_command = []\n",
    "        for command in commands:\n",
    "            print(command)\n",
    "            rigorous_command = list(command)\n",
    "            if command[0] == \"turn\":\n",
    "                rigorous_command.append(1)\n",
    "            elif command[0] == \"forward\":\n",
    "                self.total_distance += command[1]\n",
    "                fwd_duration = command[1] / self.v\n",
    "                rigorous_command.append(fwd_duration)\n",
    "        print(f\"Total distance: {self.total_distance}mm\")\n",
    "\n",
    "    def order_steps(self, order):\n",
    "        return"
   ]
  },
  {
   "cell_type": "code",
   "execution_count": 77,
   "metadata": {},
   "outputs": [
    {
     "name": "stdout",
     "output_type": "stream",
     "text": [
      "('turn', 90)\n",
      "('forward', 669)\n",
      "('turn', 90)\n",
      "('forward', 435)\n",
      "('turn', -90)\n",
      "('forward', 351)\n",
      "('turn', 90)\n",
      "('forward', 515)\n",
      "Total distance: 1970mm\n"
     ]
    },
    {
     "data": {
      "text/plain": [
       "0.8899319556451611"
      ]
     },
     "execution_count": 77,
     "metadata": {},
     "output_type": "execute_result"
    }
   ],
   "source": [
    "igpamr = AMR()\n",
    "igpamr.analyze_commands(commands)\n",
    "igpamr.turn(90)"
   ]
  },
  {
   "cell_type": "code",
   "execution_count": null,
   "metadata": {},
   "outputs": [],
   "source": []
  }
 ],
 "metadata": {
  "kernelspec": {
   "display_name": "rnd",
   "language": "python",
   "name": "python3"
  },
  "language_info": {
   "codemirror_mode": {
    "name": "ipython",
    "version": 3
   },
   "file_extension": ".py",
   "mimetype": "text/x-python",
   "name": "python",
   "nbconvert_exporter": "python",
   "pygments_lexer": "ipython3",
   "version": "3.11.7"
  }
 },
 "nbformat": 4,
 "nbformat_minor": 2
}
